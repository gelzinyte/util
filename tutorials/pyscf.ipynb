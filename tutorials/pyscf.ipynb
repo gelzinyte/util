{
 "cells": [
  {
   "cell_type": "code",
   "execution_count": 1,
   "id": "compatible-bouquet",
   "metadata": {},
   "outputs": [],
   "source": [
    "import pyscf\n",
    "from pyscf import gto, ao2mo\n",
    "from ase.build import molecule\n",
    "import numpy as np\n",
    "from pyscf import scf\n",
    "from pytest import approx\n",
    "\n",
    "from tabulate import tabulate\n",
    "from pyscf import ao2mo\n",
    "from pyscf.lib.numpy_helper import direct_sum\n"
   ]
  },
  {
   "cell_type": "code",
   "execution_count": 2,
   "id": "white-campaign",
   "metadata": {},
   "outputs": [
    {
     "ename": "NameError",
     "evalue": "name 'mol' is not defined",
     "output_type": "error",
     "traceback": [
      "\u001b[0;31m---------------------------------------------------------------------------\u001b[0m",
      "\u001b[0;31mNameError\u001b[0m                                 Traceback (most recent call last)",
      "\u001b[0;32m<ipython-input-2-f91ab10e539a>\u001b[0m in \u001b[0;36m<module>\u001b[0;34m\u001b[0m\n\u001b[1;32m      1\u001b[0m \u001b[0;31m# symmetry adapted orbitals\u001b[0m\u001b[0;34m\u001b[0m\u001b[0;34m\u001b[0m\u001b[0;34m\u001b[0m\u001b[0m\n\u001b[1;32m      2\u001b[0m \u001b[0;31m#\u001b[0m\u001b[0;34m\u001b[0m\u001b[0;34m\u001b[0m\u001b[0;34m\u001b[0m\u001b[0m\n\u001b[0;32m----> 3\u001b[0;31m \u001b[0mprint\u001b[0m\u001b[0;34m(\u001b[0m\u001b[0;34m'irreducible_rep:'\u001b[0m\u001b[0;34m,\u001b[0m \u001b[0mmol\u001b[0m\u001b[0;34m.\u001b[0m\u001b[0mirrep_name\u001b[0m\u001b[0;34m)\u001b[0m\u001b[0;34m\u001b[0m\u001b[0;34m\u001b[0m\u001b[0m\n\u001b[0m\u001b[1;32m      4\u001b[0m \u001b[0;32mfor\u001b[0m \u001b[0ms\u001b[0m\u001b[0;34m,\u001b[0m\u001b[0mi\u001b[0m\u001b[0;34m,\u001b[0m\u001b[0mc\u001b[0m \u001b[0;32min\u001b[0m \u001b[0mzip\u001b[0m\u001b[0;34m(\u001b[0m\u001b[0mmol\u001b[0m\u001b[0;34m.\u001b[0m\u001b[0mirrep_name\u001b[0m\u001b[0;34m,\u001b[0m \u001b[0mmol\u001b[0m\u001b[0;34m.\u001b[0m\u001b[0mirrep_id\u001b[0m\u001b[0;34m,\u001b[0m \u001b[0mmol\u001b[0m\u001b[0;34m.\u001b[0m\u001b[0msymm_orb\u001b[0m\u001b[0;34m)\u001b[0m\u001b[0;34m:\u001b[0m\u001b[0;34m\u001b[0m\u001b[0;34m\u001b[0m\u001b[0m\n\u001b[1;32m      5\u001b[0m     \u001b[0mprint\u001b[0m\u001b[0;34m(\u001b[0m\u001b[0ms\u001b[0m\u001b[0;34m,\u001b[0m \u001b[0mi\u001b[0m\u001b[0;34m,\u001b[0m \u001b[0mc\u001b[0m\u001b[0;34m.\u001b[0m\u001b[0mshape\u001b[0m\u001b[0;34m)\u001b[0m\u001b[0;34m\u001b[0m\u001b[0;34m\u001b[0m\u001b[0m\n",
      "\u001b[0;31mNameError\u001b[0m: name 'mol' is not defined"
     ]
    }
   ],
   "source": [
    "# symmetry adapted orbitals\n",
    "# \n",
    "print('irreducible_rep:', mol.irrep_name)\n",
    "for s,i,c in zip(mol.irrep_name, mol.irrep_id, mol.symm_orb):\n",
    "    print(s, i, c.shape)"
   ]
  },
  {
   "cell_type": "markdown",
   "id": "cultural-plane",
   "metadata": {},
   "source": [
    "Symmetry adapted orbitals. \n",
    "each element - AO -> SO transformation matrix (of an irreducible representation)\n",
    "\n",
    "It looks like orbitals order in the list (minimal basis):\n",
    "O 1s \n",
    "O 2s\n",
    "O 2px (2py in my scrap notation) \n",
    "O 2py \n",
    "O 2pz\n",
    "H1 1s\n",
    "H2 1s\n",
    "\n",
    "Overall \n",
    "A1: 4 orbitals (O 1s, O2s, O 2pz, H1 1s + H2 1s\n",
    "B1: 2 orbitals (O 2py, H1 1s - H2 1s)\n",
    "B2: 1 orbital (O 2px)"
   ]
  },
  {
   "cell_type": "code",
   "execution_count": null,
   "id": "incorrect-coating",
   "metadata": {},
   "outputs": [],
   "source": [
    "mol.symm_orb  # symmetry adapted orbitals. \n",
    "              "
   ]
  },
  {
   "cell_type": "code",
   "execution_count": null,
   "id": "enclosed-bacteria",
   "metadata": {},
   "outputs": [],
   "source": [
    "# different integrals, see\n",
    "# https://pyscf.org/pyscf_api_docs/pyscf.gto.html#module-pyscf.gto.moleintor\n",
    "kin = mol.intor('int1e_kin')\n",
    "vnuc = mol.intor('int1e_nuc')\n",
    "overlap_pre_hf = mol.intor('int1e_ovlp')\n",
    "eri_pre_hf = mol.intor('int2e')"
   ]
  },
  {
   "cell_type": "markdown",
   "id": "published-ending",
   "metadata": {},
   "source": [
    "# some potentially useful functions to analyse"
   ]
  },
  {
   "cell_type": "code",
   "execution_count": null,
   "id": "continent-ghana",
   "metadata": {},
   "outputs": [],
   "source": [
    "mf.mo_coeff.shape"
   ]
  },
  {
   "cell_type": "code",
   "execution_count": null,
   "id": "reported-aging",
   "metadata": {},
   "outputs": [],
   "source": [
    "####     analyze(mf, verbose=5, with_meta_lowdin=True, **kwargs)\n",
    "#         Analyze the given SCF object:  print orbital energies, occupancies;\n",
    "#         print orbital coefficients; Mulliken population analysis; Diople moment.\n",
    "\n",
    "#     Returns\n",
    "#         ((Muliken populations, muliken atomic charges), dipole moment)\n",
    "r = scf.hf.analyze(mf)"
   ]
  },
  {
   "cell_type": "code",
   "execution_count": null,
   "id": "offensive-milwaukee",
   "metadata": {},
   "outputs": [],
   "source": [
    "#     canonicalize(mf, mo_coeff, mo_occ, fock=None)\n",
    "#         Canonicalization diagonalizes the Fock matrix within occupied, open,\n",
    "#         virtual subspaces separatedly (without change occupancy)."
   ]
  },
  {
   "cell_type": "code",
   "execution_count": null,
   "id": "turkish-uncertainty",
   "metadata": {},
   "outputs": [],
   "source": [
    "\n",
    "#     dot_eri_dm(eri, dm, hermi=0, with_j=True, with_k=True)\n",
    "#         Compute J, K matrices in terms of the given 2-electron integrals and\n",
    "#         density matrix:\n",
    "        \n",
    "#         J ~ numpy.einsum('pqrs,qp->rs', eri, dm)\n",
    "#         K ~ numpy.einsum('pqrs,qr->ps', eri, dm)\n",
    "        \n",
    "#         Args:\n",
    "#             eri : ndarray\n",
    "#                 8-fold or 4-fold ERIs or complex integral array with N^4 elements\n",
    "#                 (N is the number of orbitals)\n",
    "#             dm : ndarray or list of ndarrays\n",
    "#                 A density matrix or a list of density matrices\n",
    "        \n",
    "#         Kwargs:\n",
    "#             hermi : int\n",
    "#                 Whether J, K matrix is hermitian\n",
    "        \n",
    "#                 | 0 : no hermitian or symmetric\n",
    "#                 | 1 : hermitian\n",
    "#                 | 2 : anti-hermitian\n",
    "        \n",
    "#         Returns:\n",
    "#             Depending on the given dm, the function returns one J and one K matrix,\n",
    "#             or a list of J matrices and a list of K matrices, corresponding to the\n",
    "#             input density matrices.\n",
    "        \n",
    "#         Examples:\n",
    "        \n",
    "#         >>> from pyscf import gto, scf\n",
    "#         >>> from pyscf.scf import _vhf\n",
    "#         >>> mol = gto.M(atom='H 0 0 0; H 0 0 1.1')\n",
    "#         >>> eri = _vhf.int2e_sph(mol._atm, mol._bas, mol._env)\n",
    "#         >>> dms = numpy.random.random((3,mol.nao_nr(),mol.nao_nr()))\n",
    "#         >>> j, k = scf.hf.dot_eri_dm(eri, dms, hermi=0)\n",
    "#         >>> print(j.shape)\n",
    "#         (3, 2, 2)\n"
   ]
  },
  {
   "cell_type": "code",
   "execution_count": null,
   "id": "fancy-degree",
   "metadata": {},
   "outputs": [],
   "source": [
    "#    dump_scf_summary(mf, verbose=5)\n",
    "pyscf.scf.hf.dump_scf_summary(mf)"
   ]
  },
  {
   "cell_type": "code",
   "execution_count": null,
   "id": "original-reminder",
   "metadata": {},
   "outputs": [],
   "source": [
    "    \n",
    "overlap_pre_hf = mol.intor('int1e_ovlp')\n",
    "    \n",
    "    \n",
    "#     get_ovlp(mol)\n",
    "#         Overlap matrix\n",
    "    \n",
    "np.all(approx(pyscf.scf.hf.get_ovlp(mol)) == overlap_pre_hf)"
   ]
  },
  {
   "cell_type": "code",
   "execution_count": null,
   "id": "ahead-theory",
   "metadata": {},
   "outputs": [],
   "source": [
    "#  |  from_chk(self, chkfile=None, project=None)\n",
    "#  |      Read the HF results from checkpoint file, then project it to the\n",
    "#  |      basis defined by ``mol``\n",
    "#  |      \n",
    "#  |      Returns:\n",
    "#  |          Density matrix, 2D ndarray\n",
    "print(mf.chkfile)\n",
    "mf.from_chk().shape"
   ]
  },
  {
   "cell_type": "code",
   "execution_count": null,
   "id": "handmade-appendix",
   "metadata": {},
   "outputs": [],
   "source": [
    "fock = mf.get_fock()"
   ]
  },
  {
   "cell_type": "markdown",
   "id": "tight-tonight",
   "metadata": {},
   "source": [
    "Fractional occupations\n",
    "\n",
    "Fractional occupations can also be invoked to help the SCF converge for small gap systems. See the example in examples/scf/54-fractional_occupancy.py.\n",
    "\n",
    "Smearing\n",
    "\n",
    "Smearing sets fractional occupancies according to a temperature function. See the example examples/pbc/23-smearing.py."
   ]
  },
  {
   "cell_type": "markdown",
   "id": "heard-dating",
   "metadata": {},
   "source": [
    "# Sanity tests\n"
   ]
  },
  {
   "cell_type": "code",
   "execution_count": 2,
   "id": "acute-doctrine",
   "metadata": {},
   "outputs": [],
   "source": [
    "ase_atoms = molecule('H2')\n",
    "ase_atoms.set_distance(0, 1, 1.4)\n",
    "\n",
    "# ase_atoms = molecule('H2O')"
   ]
  },
  {
   "cell_type": "code",
   "execution_count": 3,
   "id": "negative-holiday",
   "metadata": {},
   "outputs": [
    {
     "name": "stdout",
     "output_type": "stream",
     "text": [
      "System: uname_result(system='Linux', node='serv0', release='5.4.0-42-generic', version='#46~18.04.1-Ubuntu SMP Fri Jul 10 07:21:24 UTC 2020', machine='x86_64', processor='x86_64')  Threads 16\n",
      "Python 3.8.8 (default, Feb 24 2021, 21:46:12) \n",
      "[GCC 7.3.0]\n",
      "numpy 1.20.0  scipy 1.6.0\n",
      "Date: Wed May 12 13:20:27 2021\n",
      "PySCF version 2.0.0a\n",
      "PySCF path  /opt/womble/miniconda3/user_envs/eg475/wo/lib/python3.8/site-packages/pyscf\n",
      "\n",
      "[CONFIG] conf_file None\n",
      "[INPUT] verbose = 4\n",
      "[INPUT] num. atoms = 2\n",
      "[INPUT] num. electrons = 2\n",
      "[INPUT] charge = 0\n",
      "[INPUT] spin (= nelec alpha-beta = 2S) = 0\n",
      "[INPUT] symmetry True subgroup None\n",
      "[INPUT] Mole.unit = Bohr\n",
      "[INPUT]  1 H      0.000000000000   0.000000000000   0.370424047644 AA    0.000000000000   0.000000000000   0.700000000000 Bohr\n",
      "[INPUT]  2 H      0.000000000000   0.000000000000  -0.370424047644 AA    0.000000000000   0.000000000000  -0.700000000000 Bohr\n",
      "\n",
      "nuclear repulsion = 0.714285714285714\n",
      "point group symmetry = Dooh\n",
      "num. orbitals of irrep A1g = 1\n",
      "num. orbitals of irrep A1u = 1\n",
      "number of shells = 2\n",
      "number of NR pGTOs = 6\n",
      "number of NR cGTOs = 2\n",
      "basis = sto-3g\n",
      "ecp = {}\n",
      "CPU time:         1.15\n",
      "\n",
      "\n",
      "******** <class 'pyscf.scf.hf_symm.SymAdaptedRHF'> ********\n",
      "method = SymAdaptedRHF-RHF\n",
      "initial guess = minao\n",
      "damping factor = 0\n",
      "level_shift factor = 0\n",
      "DIIS = <class 'pyscf.scf.diis.CDIIS'>\n",
      "diis_start_cycle = 1\n",
      "diis_space = 8\n",
      "SCF conv_tol = 1e-09\n",
      "SCF conv_tol_grad = None\n",
      "SCF max_cycles = 50\n",
      "direct_scf = True\n",
      "direct_scf_tol = 1e-13\n",
      "chkfile to save SCF result = my_checkfile.ch\n",
      "max_memory 4000 MB (current use 113 MB)\n",
      "Freeze 0 electrons in irreps []\n",
      "    2 free electrons in irreps A1g A1u\n",
      "Set gradient conv threshold to 3.16228e-05\n",
      "init E= -0.769872479594465\n",
      "HOMO (A1g) = -0.519937101137375  LUMO (A1u) = 0.592916871165542\n",
      "cycle= 1 E= -1.11671432506255  delta_E= -0.347  |g|=    0  |ddm|= 0.849\n",
      "HOMO (A1g) = -0.578202977512448  LUMO (A1u) = 0.670267768273738\n",
      "cycle= 2 E= -1.11671432506255  delta_E=    0  |g|=    0  |ddm|=    0\n",
      "HOMO (A1g) = -0.578202977512448  LUMO (A1u) = 0.670267768273738\n",
      "Extra cycle  E= -1.11671432506255  delta_E=    0  |g|=    0  |ddm|=    0\n",
      "converged SCF energy = -1.11671432506255\n"
     ]
    },
    {
     "data": {
      "text/plain": [
       "-1.1167143250625515"
      ]
     },
     "execution_count": 3,
     "metadata": {},
     "output_type": "execute_result"
    }
   ],
   "source": [
    "mol = gto.Mole() # molecule object\n",
    "mol.atom = [[at.symbol, at.position] for at in ase_atoms] # in ['O', [0.0, 0.0, 0.0]] form\n",
    "mol.unit = 'Bohr'   # reads in positions with their units in Angstroms\n",
    "mol.symmetry = True # makes it work with symmetry\n",
    "mol.verbose = 4\n",
    "# mol.basis = 'ccpvdz'\n",
    "mol.build()\n",
    "\n",
    "\n",
    "mf = mol.RHF()  # initialise the mean field method\n",
    "mf.chkfile = 'my_checkfile.ch'\n",
    "mf.kernel() # run the calculation \n",
    "\n"
   ]
  },
  {
   "cell_type": "code",
   "execution_count": 4,
   "id": "incredible-intelligence",
   "metadata": {},
   "outputs": [
    {
     "name": "stdout",
     "output_type": "stream",
     "text": [
      "**** SCF Summaries ****\n",
      "Total Energy =                          -1.116714325062552\n",
      "Nuclear Repulsion Energy =               0.714285714285714\n",
      "One-electron Energy =                   -2.505594123671635\n",
      "Two-electron Energy =                    0.674594084323369\n",
      "Wave-function symmetry = Dooh\n",
      "occupancy for each irrep:    A1g  A1u\n",
      "                               1    0\n",
      "**** MO energy ****\n",
      "MO #1 (A1g #1), energy= -0.578202977512448 occ= 2\n",
      "MO #2 (A1u #1), energy= 0.670267768273738 occ= 0\n",
      " ** Mulliken pop on meta-lowdin orthogonal AOs  **\n",
      " ** Mulliken pop  **\n",
      "pop of  0 H 1s        1.00000\n",
      "pop of  1 H 1s        1.00000\n",
      " ** Mulliken atomic charges  **\n",
      "charge of  0H =      0.00000\n",
      "charge of  1H =      0.00000\n",
      "Dipole moment(X, Y, Z, Debye):  0.00000,  0.00000,  0.00000\n"
     ]
    }
   ],
   "source": [
    "#((Muliken populations, muliken atomic charges), dipole moment)\n",
    "((pop, charges), dipole) = mf.analyze()"
   ]
  },
  {
   "cell_type": "code",
   "execution_count": 5,
   "id": "overhead-rachel",
   "metadata": {},
   "outputs": [
    {
     "data": {
      "text/plain": [
       "array([[-0.36553735, -0.59388538],\n",
       "       [-0.59388538, -0.36553735]])"
      ]
     },
     "execution_count": 5,
     "metadata": {},
     "output_type": "execute_result"
    }
   ],
   "source": [
    "# for H2 in STO-3G matches exercise 3.25 - fock matrix isn't orthogonalised, is in the \"AO\" basis (not in MO) and\n",
    "# there's no orthogonalisation of basis\n",
    "mf.get_fock()"
   ]
  },
  {
   "cell_type": "code",
   "execution_count": 6,
   "id": "green-wyoming",
   "metadata": {},
   "outputs": [
    {
     "data": {
      "text/plain": [
       "True"
      ]
     },
     "execution_count": 6,
     "metadata": {},
     "output_type": "execute_result"
    }
   ],
   "source": [
    "# is getting fock matrix consistent\n",
    "fock_via_mf = mf.get_fock()\n",
    "fock_via_pyscf = pyscf.scf.hf.get_fock(mf)\n",
    "np.all(approx(fock_via_mf) == fock_via_pyscf)"
   ]
  },
  {
   "cell_type": "code",
   "execution_count": 7,
   "id": "wired-spanish",
   "metadata": {},
   "outputs": [
    {
     "data": {
      "text/plain": [
       "True"
      ]
     },
     "execution_count": 7,
     "metadata": {},
     "output_type": "execute_result"
    }
   ],
   "source": [
    "# from mo coefficients to density matrix\n",
    "\n",
    "def mo_to_dm(mf):\n",
    "    \n",
    "    N_electron = mf.mo_occ.sum()\n",
    "    C = mf.mo_coeff\n",
    "    N_mo = len(C)\n",
    "    \n",
    "    density_mx = np.zeros(C.shape)\n",
    "    \n",
    "    for i in range(N_mo):\n",
    "        for j in range(N_mo):\n",
    "            \n",
    "            density_mx[i][j] = 2 *np.sum([C[i][k] * C[j][k] for k in range(int(N_electron/2))])\n",
    "            \n",
    "    return density_mx\n",
    "    \n",
    "my_dm = mo_to_dm(mf)\n",
    "mf_dm = mf.from_chk()\n",
    "\n",
    "np.all(approx(my_dm) == mf_dm)"
   ]
  },
  {
   "cell_type": "code",
   "execution_count": 8,
   "id": "grave-yesterday",
   "metadata": {},
   "outputs": [
    {
     "data": {
      "text/plain": [
       "True"
      ]
     },
     "execution_count": 8,
     "metadata": {},
     "output_type": "execute_result"
    }
   ],
   "source": [
    "# F = Hcore+ veff\n",
    "fock = mf.get_fock()\n",
    "veff = mf.get_veff()\n",
    "core = mf.get_hcore()\n",
    "\n",
    "np.all(approx(fock) == core + veff)"
   ]
  },
  {
   "cell_type": "code",
   "execution_count": 9,
   "id": "cosmetic-wednesday",
   "metadata": {},
   "outputs": [],
   "source": [
    "#Hcore = T (kinetic) + V (\"external potential\" aka electron-nuclear interaction)\n",
    "# can't find access to V (though doesn't matter too much)"
   ]
  },
  {
   "cell_type": "code",
   "execution_count": 10,
   "id": "commercial-triangle",
   "metadata": {},
   "outputs": [
    {
     "data": {
      "text/plain": [
       "True"
      ]
     },
     "execution_count": 10,
     "metadata": {},
     "output_type": "execute_result"
    }
   ],
   "source": [
    "mf_overlap = mf.get_ovlp()\n",
    "mol_overlap = mol.intor('int1e_ovlp')\n",
    "\n",
    "np.all(approx(mf_overlap) == mol_overlap)"
   ]
  },
  {
   "cell_type": "code",
   "execution_count": 11,
   "id": "sapphire-repeat",
   "metadata": {},
   "outputs": [
    {
     "data": {
      "text/plain": [
       "True"
      ]
     },
     "execution_count": 11,
     "metadata": {},
     "output_type": "execute_result"
    }
   ],
   "source": [
    "# FC == SCE ? \n",
    "\n",
    "fock = mf.get_fock()\n",
    "coeff = mf.mo_coeff\n",
    "overlap = mf.get_ovlp()\n",
    "energies = np.eye(fock.shape[0]) * mf.mo_energy\n",
    "\n",
    "np.all(approx(fock @ coeff) == overlap @ coeff @ energies)"
   ]
  },
  {
   "cell_type": "code",
   "execution_count": 12,
   "id": "accredited-timeline",
   "metadata": {},
   "outputs": [
    {
     "data": {
      "text/plain": [
       "(2, 2, 2, 2)"
      ]
     },
     "execution_count": 12,
     "metadata": {},
     "output_type": "execute_result"
    }
   ],
   "source": [
    "# some integrals\n",
    "kin = mol.intor('int1e_kin')\n",
    "vnuc = mol.intor('int1e_nuc')\n",
    "overlap = mol.intor('int1e_ovlp')\n",
    "eri = mol.intor('int2e')\n",
    "eri.shape"
   ]
  },
  {
   "cell_type": "code",
   "execution_count": 13,
   "id": "constant-guidance",
   "metadata": {},
   "outputs": [
    {
     "data": {
      "text/plain": [
       "True"
      ]
     },
     "execution_count": 13,
     "metadata": {},
     "output_type": "execute_result"
    }
   ],
   "source": [
    "# h_core = kin + vnuc \n",
    "\n",
    "# !!!!!!!!!!!!!!!!!!!!!!!!1\n",
    "#   shouldn't these integrals change before and after HF orbitals were found?\n",
    "# I guess not - these are just expressions of the (T and V) operators in our \"AO\" basis,\n",
    "# It's the coefficients in F(C)C=SCE that do all the work\n",
    "# !!!!!!!!!!!!!!!!!!!!!!!!!!\n",
    "\n",
    "h_core = mf.get_hcore()\n",
    "kin = mol.intor('int1e_kin')\n",
    "vnuc = mol.intor('int1e_nuc')\n",
    "\n",
    "np.all(approx(h_core) == kin + vnuc)\n"
   ]
  },
  {
   "cell_type": "code",
   "execution_count": 14,
   "id": "false-airplane",
   "metadata": {},
   "outputs": [
    {
     "data": {
      "text/plain": [
       "True"
      ]
     },
     "execution_count": 14,
     "metadata": {},
     "output_type": "execute_result"
    }
   ],
   "source": [
    "# F = Hcore + G ? \n",
    "\n",
    "# G_mu_nu from 2-electron integrals and density matrix\n",
    "density_mx = mf.from_chk()\n",
    "four_center_integrals = mol.intor('int2e') # they call this 'eri' everywhere for some reason \n",
    "\n",
    "def G_from_dmx_and_integrals(density_mx, four_center_integrals):\n",
    "    # eqn 3.154\n",
    "    \n",
    "    N = density_mx.shape[0]\n",
    "    \n",
    "    G = np.zeros((N, N))\n",
    "    \n",
    "    for idx1 in range(N):\n",
    "        for idx2 in range(N):\n",
    "            \n",
    "            entries_to_sum_over = []\n",
    "            \n",
    "            for idx3 in range(N):\n",
    "                for idx4 in range(N):\n",
    "                    \n",
    "                    coulomb = four_center_integrals[idx1][idx2][idx3][idx4]\n",
    "                    exchange = four_center_integrals[idx1][idx4][idx3][idx2]\n",
    "                    \n",
    "                    coeff = density_mx[idx3][idx4]\n",
    "                    \n",
    "                    item = coeff * (coulomb - 0.5 * exchange)\n",
    "                    \n",
    "                    entries_to_sum_over.append(item)\n",
    "            \n",
    "            G[idx1][idx2] = np.sum(entries_to_sum_over)\n",
    "    return G\n",
    "\n",
    "fock = mf.get_fock()\n",
    "\n",
    "h_core = mf.get_hcore()\n",
    "G = G_from_dmx_and_integrals(density_mx, four_center_integrals)\n",
    "\n",
    "np.all(approx(fock) == h_core + G)"
   ]
  },
  {
   "cell_type": "code",
   "execution_count": 15,
   "id": "modern-vietnam",
   "metadata": {},
   "outputs": [
    {
     "name": "stdout",
     "output_type": "stream",
     "text": [
      "veff == 2*J - K:  False\n",
      "veff == G: True\n"
     ]
    }
   ],
   "source": [
    "# veff from 2 electron integrals\n",
    "# ------\n",
    "# from mf.get_veff docummentation\n",
    "# |      Returns:\n",
    "#  |          matrix Vhf = 2*J - K.  Vhf can be a list matrices, corresponding to the\n",
    "#  |          input density matrices.\n",
    "\n",
    "# -> J and K here should be weighted by the density matrix\n",
    "\n",
    "\n",
    "j, k = mf.get_jk()\n",
    "veff = mf.get_veff()\n",
    "\n",
    "print('veff == 2*J - K: ', np.all(approx(veff) == 2 * j - k))\n",
    "\n",
    "\n",
    "\n",
    "# instead to get veff need to sum over appropriate 2-electron integrals\n",
    "\n",
    "print('veff == G:', np.all(approx(veff) == G))\n",
    "\n",
    "\n"
   ]
  },
  {
   "cell_type": "code",
   "execution_count": 16,
   "id": "talented-sheriff",
   "metadata": {},
   "outputs": [
    {
     "name": "stdout",
     "output_type": "stream",
     "text": [
      "my J vs mf.get_j: True\n",
      "my K vs mf.get_k: True\n"
     ]
    }
   ],
   "source": [
    "# J and K vs 2e/4c integrals, similarly to G above\n",
    "\n",
    "density_mx = mf.from_chk()\n",
    "four_center_integrals = mol.intor('int2e')\n",
    "mo_coeff = mf.mo_coeff\n",
    "\n",
    "def J_from_ints(density_mx, four_center_integrals):\n",
    "    \n",
    "    N = four_center_integrals.shape[0]\n",
    "    \n",
    "    J = np.zeros((N, N))\n",
    "    \n",
    "    for a in range(N):\n",
    "        for b in range(N):\n",
    "            \n",
    "            to_sum_over = []\n",
    "            for i in range(N):\n",
    "                for j in range(N):\n",
    "                    \n",
    "                    entry = density_mx[i][j] * four_center_integrals[i][j][a][b]\n",
    "                    to_sum_over.append(entry)\n",
    "                \n",
    "                \n",
    "            J[b][a] = np.sum(to_sum_over)\n",
    "            \n",
    "    return J\n",
    "\n",
    "\n",
    "def K_from_ints(density_mx, four_center_integrals):\n",
    "    \n",
    "    N = four_center_integrals.shape[0]\n",
    "    \n",
    "    K = np.zeros((N, N))\n",
    "    \n",
    "    for a in range(N):\n",
    "        for b in range(N):\n",
    "            \n",
    "            to_sum_over = []\n",
    "            for i in range(N):\n",
    "                for j in range(N):\n",
    "                    \n",
    "                    entry = density_mx[i][j] * four_center_integrals[a][i][j][b]\n",
    "                    to_sum_over.append(entry)\n",
    "                \n",
    "                \n",
    "            K[b][a] = np.sum(to_sum_over)\n",
    "            \n",
    "    return K\n",
    "\n",
    "\n",
    "my_K = K_from_ints(density_mx, four_center_integrals)\n",
    "my_J = J_from_ints(density_mx, four_center_integrals)\n",
    "\n",
    "j, k = mf.get_jk()\n",
    "\n",
    "print(f'my J vs mf.get_j:', np.all(approx(my_J) == j))\n",
    "print(f'my K vs mf.get_k:', np.all(approx(my_K) == k))"
   ]
  },
  {
   "cell_type": "code",
   "execution_count": null,
   "id": "intense-wheat",
   "metadata": {},
   "outputs": [],
   "source": []
  },
  {
   "cell_type": "code",
   "execution_count": 17,
   "id": "pressing-seller",
   "metadata": {},
   "outputs": [
    {
     "data": {
      "text/plain": [
       "True"
      ]
     },
     "execution_count": 17,
     "metadata": {},
     "output_type": "execute_result"
    }
   ],
   "source": [
    "# total elelctron energy in terms of density, core and fock\n",
    "# eqn 3.184 when F is non-diagonal and expressed in AO basis  (I think that's right?)\n",
    "\n",
    "h = mf.get_hcore()\n",
    "fock = mf.get_fock()\n",
    "density_mx = mf.from_chk()\n",
    "nuclear_repulsion = mol.energy_nuc()\n",
    "\n",
    "N = h.shape[0]\n",
    "\n",
    "total_energy = mf.e_tot\n",
    "\n",
    "HF_energy = 0.5 * np.sum([[density_mx[mu][nu] * (h[nu][mu] + fock[nu][mu]) for mu in range(N)] for nu in range(N)])\n",
    "\n",
    "approx(total_energy) == HF_energy + nuclear_repulsion\n",
    "\n",
    "\n"
   ]
  },
  {
   "cell_type": "code",
   "execution_count": 18,
   "id": "protective-essence",
   "metadata": {},
   "outputs": [
    {
     "data": {
      "text/plain": [
       "True"
      ]
     },
     "execution_count": 18,
     "metadata": {},
     "output_type": "execute_result"
    }
   ],
   "source": [
    "## diagonalise fock\n",
    "\n",
    "fock = mf.get_fock()\n",
    "# print('non-canonical fock')\n",
    "# print(fock)\n",
    "\n",
    "\n",
    "orb_es, mo_coeff = mf.canonicalize(mo_coeff=mf.mo_coeff, mo_occ=mf.mo_occ)\n",
    "# print('canonicalisation:', orb_es, '\\n', mo_coeff)\n",
    "\n",
    "# isn't canonical anymore. \n",
    "fock = mf.get_fock()\n",
    "# print(fock)\n",
    "\n",
    "np.all(approx(mf.mo_energy) == orb_es)"
   ]
  },
  {
   "cell_type": "code",
   "execution_count": null,
   "id": "reflected-dover",
   "metadata": {},
   "outputs": [],
   "source": []
  },
  {
   "cell_type": "code",
   "execution_count": 19,
   "id": "colonial-power",
   "metadata": {},
   "outputs": [
    {
     "name": "stdout",
     "output_type": "stream",
     "text": [
      "(2, 2, 2, 2)\n",
      "(3, 3)\n",
      "(6,)\n",
      "J:\n",
      " [[0.67459408 0.66356399]\n",
      " [0.66356399 0.69749535]]\n",
      "K:\n",
      " [[0.67459408 0.18125791]\n",
      " [0.18125791 0.69749535]]\n"
     ]
    }
   ],
   "source": [
    "# values for coulomb and exchange matrices in MO basis\n",
    "\n",
    "lmo_fname = 'integrals_in_MO'\n",
    "\n",
    "mo_coeff = mf.mo_coeff\n",
    "\n",
    "ao2mo.kernel(mol, mf.mo_coeff, lmo_fname)\n",
    "\n",
    "\n",
    "with ao2mo.load(lmo_fname) as eri:\n",
    "#     print(eri.shape)\n",
    "    eri1 = ao2mo.restore(1, np.asarray(eri), mo_coeff.shape[1])\n",
    "    eri4 = ao2mo.restore('4', np.asarray(eri), mo_coeff.shape[1])\n",
    "    eri8 = ao2mo.restore('s8', np.asarray(eri), mo_coeff.shape[1])\n",
    "    print(eri1.shape)\n",
    "    print(eri4.shape)\n",
    "    print(eri8.shape)\n",
    "    \n",
    "\n",
    "# for H2 STO-3G these match p. 164 in szabo and ostlund\n",
    "J = np.array([[eri1[i][i][j][j] for j in range(2)] for i in range(2)])\n",
    "print(f'J:\\n', J)\n",
    "K = np.array([[eri1[i][j][i][j] for j in range(2)] for i in range(2)])\n",
    "print(f'K:\\n', K)"
   ]
  },
  {
   "cell_type": "code",
   "execution_count": 20,
   "id": "mathematical-karma",
   "metadata": {},
   "outputs": [
    {
     "data": {
      "text/plain": [
       "True"
      ]
     },
     "execution_count": 20,
     "metadata": {},
     "output_type": "execute_result"
    }
   ],
   "source": [
    "## in general, getting from 4 orbital integrals in AO basis to integrals in MO basis\n",
    "e2o4_ao = mol.intor('int2e')\n",
    "C = mf.mo_coeff\n",
    "\n",
    "N = C.shape[0]\n",
    "\n",
    "e2o4_mo_my = np.zeros((N, N, N, N))\n",
    "\n",
    "for i in range(N):\n",
    "    for j in range(N):\n",
    "        for k in range(N):\n",
    "            for l in range(N):\n",
    "                \n",
    "                to_sum = []\n",
    "                \n",
    "                for mu in range(N):\n",
    "                    for nu in range(N):\n",
    "                        for gamma in range(N):\n",
    "                            for sigma in range(N):\n",
    "                                \n",
    "                                entry = C[mu][i] * \\\n",
    "                                        C[nu][j] * \\\n",
    "                                        C[gamma][k] * \\\n",
    "                                        C[sigma][l] * \\\n",
    "                                        e2o4_ao[mu][nu][gamma][sigma]\n",
    "                                \n",
    "                                to_sum.append(entry)\n",
    "\n",
    "                e2o4_mo_my[i][j][k][l] = np.sum(to_sum)\n",
    "\n",
    "                \n",
    "with ao2mo.load(lmo_fname) as eri:\n",
    "    e2o4_mo = ao2mo.restore(1, np.asarray(eri), mo_coeff.shape[1])\n",
    "    \n",
    "                \n",
    "np.all(approx(e2o4_mo) == e2o4_mo_my)"
   ]
  },
  {
   "cell_type": "code",
   "execution_count": null,
   "id": "another-temperature",
   "metadata": {},
   "outputs": [],
   "source": []
  },
  {
   "cell_type": "markdown",
   "id": "stone-mattress",
   "metadata": {},
   "source": [
    "# MP2 amplitudes???"
   ]
  },
  {
   "cell_type": "code",
   "execution_count": 2,
   "id": "southeast-peoples",
   "metadata": {
    "scrolled": true
   },
   "outputs": [
    {
     "name": "stdout",
     "output_type": "stream",
     "text": [
      "System: uname_result(system='Linux', node='serv0', release='5.4.0-42-generic', version='#46~18.04.1-Ubuntu SMP Fri Jul 10 07:21:24 UTC 2020', machine='x86_64', processor='x86_64')  Threads 16\n",
      "Python 3.8.8 (default, Feb 24 2021, 21:46:12) \n",
      "[GCC 7.3.0]\n",
      "numpy 1.20.0  scipy 1.6.0\n",
      "Date: Fri May 14 12:15:42 2021\n",
      "PySCF version 2.0.0a\n",
      "PySCF path  /opt/womble/miniconda3/user_envs/eg475/wo/lib/python3.8/site-packages/pyscf\n",
      "\n",
      "[CONFIG] conf_file None\n",
      "[INPUT] verbose = 4\n",
      "[INPUT] num. atoms = 3\n",
      "[INPUT] num. electrons = 10\n",
      "[INPUT] charge = 0\n",
      "[INPUT] spin (= nelec alpha-beta = 2S) = 0\n",
      "[INPUT] symmetry True subgroup None\n",
      "[INPUT] Mole.unit = Bohr\n",
      "[INPUT]  1 O      0.000000000000   0.000000000000   0.063110732529 AA    0.000000000000   0.000000000000   0.119262000000 Bohr\n",
      "[INPUT]  2 H      0.000000000000   0.403888685285  -0.252442400938 AA    0.000000000000   0.763239000000  -0.477047000000 Bohr\n",
      "[INPUT]  3 H      0.000000000000  -0.403888685285  -0.252442400938 AA    0.000000000000  -0.763239000000  -0.477047000000 Bohr\n",
      "\n",
      "nuclear repulsion = 17.1743861632644\n",
      "point group symmetry = C2v\n",
      "num. orbitals of irrep A1 = 4\n",
      "num. orbitals of irrep B1 = 2\n",
      "num. orbitals of irrep B2 = 1\n",
      "number of shells = 5\n",
      "number of NR pGTOs = 21\n",
      "number of NR cGTOs = 7\n",
      "basis = sto-3g\n",
      "ecp = {}\n",
      "CPU time:         1.13\n",
      "\n",
      "\n",
      "******** <class 'pyscf.scf.hf_symm.SymAdaptedRHF'> ********\n",
      "method = SymAdaptedRHF-RHF\n",
      "initial guess = minao\n",
      "damping factor = 0\n",
      "level_shift factor = 0\n",
      "DIIS = <class 'pyscf.scf.diis.CDIIS'>\n",
      "diis_start_cycle = 1\n",
      "diis_space = 8\n",
      "SCF conv_tol = 1e-09\n",
      "SCF conv_tol_grad = None\n",
      "SCF max_cycles = 50\n",
      "direct_scf = True\n",
      "direct_scf_tol = 1e-13\n",
      "chkfile to save SCF result = my_checkfile.ch\n",
      "max_memory 4000 MB (current use 113 MB)\n",
      "Freeze 0 electrons in irreps []\n",
      "    10 free electrons in irreps A1 B1 B2\n",
      "Set gradient conv threshold to 3.16228e-05\n",
      "init E= -75.0690295997391\n",
      "HOMO (B2) = -0.666239713201481  LUMO (A1) = 0.825436270870132\n",
      "cycle= 1 E= -73.2792693719319  delta_E= 1.79  |g|= 0.237  |ddm|= 1.94\n",
      "HOMO (B2) = -0.516033769653597  LUMO (A1) = 0.998855734373191\n",
      "cycle= 2 E= -73.2912959127195  delta_E= -0.012  |g|= 0.0313  |ddm|= 0.362\n",
      "HOMO (B2) = -0.543431790174456  LUMO (A1) = 0.991906724787685\n",
      "cycle= 3 E= -73.29153546713  delta_E= -0.00024  |g|= 0.00318  |ddm|= 0.0589\n",
      "HOMO (B2) = -0.542724880665086  LUMO (A1) = 0.99209544363873\n",
      "cycle= 4 E= -73.291538197957  delta_E= -2.73e-06  |g|= 0.000244  |ddm|= 0.00776\n",
      "HOMO (B2) = -0.542593397401637  LUMO (A1) = 0.992131518889725\n",
      "cycle= 5 E= -73.2915382231075  delta_E= -2.52e-08  |g|= 4.44e-05  |ddm|= 0.000845\n",
      "HOMO (B2) = -0.54259841534277  LUMO (A1) = 0.992130083794663\n",
      "cycle= 6 E= -73.2915382239688  delta_E= -8.61e-10  |g|= 5.7e-08  |ddm|= 0.000192\n",
      "HOMO (B2) = -0.542598393104599  LUMO (A1) = 0.992130096384925\n",
      "Extra cycle  E= -73.2915382239688  delta_E= 2.84e-14  |g|= 1.24e-08  |ddm|= 1.48e-07\n",
      "converged SCF energy = -73.2915382239688\n"
     ]
    },
    {
     "data": {
      "text/plain": [
       "-73.29153822396879"
      ]
     },
     "execution_count": 2,
     "metadata": {},
     "output_type": "execute_result"
    }
   ],
   "source": [
    "# ase_atoms = molecule('H2')\n",
    "# ase_atoms.set_distance(0, 1, 1.4)\n",
    "\n",
    "ase_atoms = molecule('H2O')\n",
    "\n",
    "mol = gto.Mole() # molecule object\n",
    "mol.atom = [[at.symbol, at.position] for at in ase_atoms] # in ['O', [0.0, 0.0, 0.0]] form\n",
    "mol.unit = 'Bohr'   # reads in positions with their units in Angstroms\n",
    "mol.symmetry = True # makes it work with symmetry\n",
    "mol.verbose = 4\n",
    "# mol.basis = 'ccpvdz'\n",
    "mol.build()\n",
    "\n",
    "\n",
    "mf = mol.RHF()  # initialise the mean field method\n",
    "mf.chkfile = 'my_checkfile.ch'\n",
    "mf.kernel() # run the calculation \n"
   ]
  },
  {
   "cell_type": "code",
   "execution_count": 3,
   "id": "coated-webmaster",
   "metadata": {},
   "outputs": [
    {
     "name": "stdout",
     "output_type": "stream",
     "text": [
      "[-20.45127894  -1.68167502  -0.93746481  -0.58094632  -0.54259839\n",
      "   0.9921301    1.48612511]\n",
      "\n",
      "******** <class 'pyscf.mp.mp2.MP2'> ********\n",
      "nocc = 5, nmo = 7\n",
      "max_memory 4000 MB (current use 117 MB)\n",
      "E(MP2) = -73.3029566880172  E_corr = -0.0114184640484074\n",
      "[-20.45127894  -1.68167502  -0.93746481  -0.58094632  -0.54259839\n",
      "   0.9921301    1.48612511]\n"
     ]
    }
   ],
   "source": [
    "print(mf.mo_energy)\n",
    "mp2 = mf.MP2().run()\n",
    "print(mf.mo_energy)"
   ]
  },
  {
   "cell_type": "code",
   "execution_count": 4,
   "id": "guilty-sheriff",
   "metadata": {
    "scrolled": false
   },
   "outputs": [
    {
     "name": "stdout",
     "output_type": "stream",
     "text": [
      "Got correlation energy: True\n"
     ]
    }
   ],
   "source": [
    "### what are amplitudes equal to?\n",
    "\n",
    "verbose=False\n",
    "\n",
    "\n",
    "\n",
    "N_occ = sum(mf.mo_occ != 0)\n",
    "N = len(mf.mo_occ)\n",
    "N_virt = N - N_occ\n",
    "\n",
    "\n",
    "orb_energies = mf.mo_energy\n",
    "orb_e_occ = orb_energies[:N_occ]\n",
    "orb_e_virt = orb_energies[N_occ:]\n",
    "\n",
    "\n",
    "lmo_fname = 'integrals_in_MO'\n",
    "mo_coeff = mf.mo_coeff\n",
    "\n",
    "\n",
    "ao2mo.kernel(mol, mf.mo_coeff, lmo_fname)\n",
    "with ao2mo.load(lmo_fname) as eri:\n",
    "    e2o4_mo = ao2mo.restore(1, np.asarray(eri), mo_coeff.shape[1])\n",
    "     \n",
    "\n",
    "e2_mx  = np.zeros((N_occ, N_occ, N_virt, N_virt))\n",
    "\n",
    "for i in range(N_occ):\n",
    "    for j in range(N_occ):\n",
    "        for a in range(N_occ, N):\n",
    "            for b in range(N_occ, N):\n",
    "             \n",
    "                if verbose:\n",
    "                    print(f'i {i} j {j} a {a} b {b}')\n",
    "\n",
    "                \n",
    "                denom =   orb_energies[a] + orb_energies[b] - orb_energies[i] - orb_energies[j]\n",
    "                \n",
    "\n",
    "                \n",
    "                int_iajb = e2o4_mo[i][a][j][b]\n",
    "                int_ibja = e2o4_mo[i][b][j][a]\n",
    "\n",
    "                \n",
    "                entry = -1 * int_iajb * (2 * int_iajb - int_ibja)\n",
    "                \n",
    "                if verbose:\n",
    "                    print('numerator:', entry)\n",
    "                entry /= denom\n",
    "                \n",
    "                if verbose:\n",
    "                    print('int_iajb', int_iajb)\n",
    "                    print('int_ibja', int_ibja)\n",
    "\n",
    "                    print('denom', denom)\n",
    "                    print('entry', entry)\n",
    "                \n",
    "                e2_mx[i][j][a-N_occ][b-N_occ] = entry\n",
    "                \n",
    "e_corr_my =  np.sum(e2_mx) \n",
    "                \n",
    "    \n",
    "    \n",
    "print('Got correlation energy:', np.all(approx(mp2.e_corr) == e_corr_my))\n",
    "\n"
   ]
  },
  {
   "cell_type": "code",
   "execution_count": 5,
   "id": "worse-glasgow",
   "metadata": {},
   "outputs": [
    {
     "data": {
      "text/plain": [
       "True"
      ]
     },
     "execution_count": 5,
     "metadata": {},
     "output_type": "execute_result"
    }
   ],
   "source": [
    "## how are their eris and ovov related?\n",
    "\n",
    "N_occ = sum(mf.mo_occ != 0)\n",
    "N = len(mf.mo_occ)\n",
    "N_virt = N - N_occ\n",
    "\n",
    "eris = mp2.ao2mo(mp2.mo_coeff)\n",
    "\n",
    "\n",
    "lmo_fname = 'integrals_in_MO'\n",
    "ao2mo.kernel(mol, mp2.mo_coeff, lmo_fname)\n",
    "with ao2mo.load(lmo_fname) as eri:\n",
    "    e2o4_mo = ao2mo.restore(1, np.asarray(eri), mp2.mo_coeff.shape[1])\n",
    "    \n",
    "    \n",
    "reshaped_ovov = eris.ovov.reshape((N_occ, N_virt, N_occ, N_virt))\n",
    "ovov_from_e2o4_mo = e2o4_mo[:N_occ,N_occ:,:N_occ,N_occ:]\n",
    "    \n",
    "np.all(approx(reshaped_ovov) == ovov_from_e2o4_mo)"
   ]
  },
  {
   "cell_type": "code",
   "execution_count": 6,
   "id": "incomplete-mechanism",
   "metadata": {},
   "outputs": [
    {
     "data": {
      "text/plain": [
       "True"
      ]
     },
     "execution_count": 6,
     "metadata": {},
     "output_type": "execute_result"
    }
   ],
   "source": [
    "# K_iajb == ovov?\n",
    "# same as above cell\n",
    "\n",
    "\n",
    "lmo_fname = 'integrals_in_MO'\n",
    "ao2mo.kernel(mol, mp2.mo_coeff, lmo_fname)\n",
    "with ao2mo.load(lmo_fname) as eri:\n",
    "    e2o4_mo = ao2mo.restore(1, np.asarray(eri), mp2.mo_coeff.shape[1])\n",
    "    \n",
    "K_iajb = e2o4_mo[:N_occ, N_occ:, :N_occ, N_occ:]\n",
    "\n",
    "ovov = mp2.ao2mo(mp2.mo_coeff).ovov.reshape(N_occ, N_virt, N_occ, N_virt)\n",
    "\n",
    "np.all(approx(K_iajb)==ovov)\n",
    "\n",
    "\n"
   ]
  },
  {
   "cell_type": "code",
   "execution_count": 7,
   "id": "brown-terrace",
   "metadata": {},
   "outputs": [
    {
     "data": {
      "text/plain": [
       "False"
      ]
     },
     "execution_count": 7,
     "metadata": {},
     "output_type": "execute_result"
    }
   ],
   "source": [
    "# K_ijab == oovv?\n",
    "\n",
    "lmo_fname = 'integrals_in_MO'\n",
    "ao2mo.kernel(mol, mp2.mo_coeff, lmo_fname)\n",
    "with ao2mo.load(lmo_fname) as eri:\n",
    "    e2o4_mo = ao2mo.restore(1, np.asarray(eri), mp2.mo_coeff.shape[1])\n",
    "    \n",
    "K_ijab = e2o4_mo[:N_occ, :N_occ, N_occ:, N_occ:]\n",
    "\n",
    "ovov = mp2.ao2mo(mp2.mo_coeff).ovov.reshape(N_occ, N_virt, N_occ, N_virt)\n",
    "oovv = ovov.transpose(0, 2, 1, 3)\n",
    "\n",
    "# ofc not equal, because I'm taking different elements of K, but just permuting ovov\n",
    "np.all(approx(K_ijab) == oovv)\n",
    "\n",
    "\n"
   ]
  },
  {
   "cell_type": "code",
   "execution_count": 26,
   "id": "interpreted-adaptation",
   "metadata": {},
   "outputs": [
    {
     "data": {
      "text/plain": [
       "True"
      ]
     },
     "execution_count": 26,
     "metadata": {},
     "output_type": "execute_result"
    }
   ],
   "source": [
    "# correlation energy from amplitudes? \n",
    "lmo_fname = 'integrals_in_MO'\n",
    "ao2mo.kernel(mol, mp2.mo_coeff, lmo_fname)\n",
    "with ao2mo.load(lmo_fname) as eri:\n",
    "    e2o4_mo = ao2mo.restore(1, np.asarray(eri), mp2.mo_coeff.shape[1])\n",
    "    \n",
    "# K_ijab = e2o4_mo[:N_occ, :N_occ, N_occ:, N_occ:]\n",
    "ovov = mp2.ao2mo(mp2.mo_coeff).ovov.reshape(N_occ, N_virt, N_occ, N_virt)\n",
    "oovv = ovov.transpose(0, 2, 1, 3)\n",
    "\n",
    "t2 = mp2.t2\n",
    "\n",
    "\n",
    "# doing ijab, ijba over ovov transposed into oovv \n",
    "# is the same as \n",
    "# doing iajb, ibja over ovov\n",
    "# which is my equation!\n",
    "positive_entry = np.einsum('ijab, ijab', oovv, t2) * 2\n",
    "negative_entry = np.einsum('ijab, ijba', oovv, t2) * -1\n",
    "\n",
    "my_e_corr = positive_entry + negative_entry\n",
    "\n",
    "approx(my_e_corr) == mp2.e_corr\n"
   ]
  },
  {
   "cell_type": "code",
   "execution_count": 41,
   "id": "mounted-cleveland",
   "metadata": {},
   "outputs": [],
   "source": [
    "def make_eps_ij(mp2):\n",
    "    \n",
    "    N_occ = sum(mp2.mo_occ != 0)\n",
    "    N = len(mp2.mo_occ)\n",
    "    N_virt = N - N_occ\n",
    "\n",
    "    \n",
    "    t2 = mp2.t2\n",
    "    ovov = mp2.ao2mo(mp2.mo_coeff).ovov.reshape(N_occ, N_virt, N_occ, N_virt)\n",
    "    oovv = ovov.transpose(0, 2, 1, 3)\n",
    "    \n",
    "    positive = np.einsum('ijab, ijab -> ij', oovv, t2) * 2 \n",
    "    negative = np.einsum('ijab, ijba -> ij', oovv, t2) * -1 \n",
    "    \n",
    "    eps_ij = positive + negative\n",
    "    \n",
    "    # eps_ij should sum to correlation energy\n",
    "    assert mp2.e_corr == eps_ij.sum()\n",
    "    \n",
    "    \n",
    "    return eps_ij\n",
    "\n",
    "eps_ij = make_eps_ij(mp2)"
   ]
  },
  {
   "cell_type": "code",
   "execution_count": 32,
   "id": "exact-multiple",
   "metadata": {},
   "outputs": [],
   "source": []
  }
 ],
 "metadata": {
  "kernelspec": {
   "display_name": "Python 3",
   "language": "python",
   "name": "python3"
  },
  "language_info": {
   "codemirror_mode": {
    "name": "ipython",
    "version": 3
   },
   "file_extension": ".py",
   "mimetype": "text/x-python",
   "name": "python",
   "nbconvert_exporter": "python",
   "pygments_lexer": "ipython3",
   "version": "3.8.8"
  }
 },
 "nbformat": 4,
 "nbformat_minor": 5
}
